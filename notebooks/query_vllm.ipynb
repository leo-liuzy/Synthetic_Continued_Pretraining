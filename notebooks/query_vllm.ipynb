{
 "cells": [
  {
   "cell_type": "code",
   "execution_count": 6,
   "id": "1e0a75db",
   "metadata": {},
   "outputs": [],
   "source": [
    "import os\n",
    "import json\n",
    "import argparse\n",
    "import requests\n",
    "from tqdm import tqdm\n",
    "# from reason import util\n",
    "from datasets import load_dataset\n",
    "# from vllm import LLM, SamplingParams\n",
    "# from vllm.lora.request import LoRARequest\n",
    "# from vllm import EngineArgs, LLMEngine, RequestOutput\n",
    "\n",
    "import pandas as pd\n",
    "\n",
    "from transformers import AutoTokenizer\n",
    "from datasets import Dataset\n",
    "\n",
    "from knowledge_propagation.utils import io"
   ]
  },
  {
   "cell_type": "code",
   "execution_count": 9,
   "id": "0bd4dfb8",
   "metadata": {},
   "outputs": [],
   "source": [
    "model_name_or_path = \"/home/zliu/shared_resources/models/qwen/Qwen2.5-1.5B-Instruct\"\n",
    "# model_name_or_path = \"/u/zliu/datastor1/shared_resources/models/deepseek/DeepSeek-R1-Distill-Qwen-7B\"\n",
    "tokenizer = AutoTokenizer.from_pretrained(model_name_or_path)\n"
   ]
  },
  {
   "cell_type": "code",
   "execution_count": 12,
   "id": "c1e6c98f",
   "metadata": {},
   "outputs": [
    {
     "data": {
      "text/plain": [
       "('/home/zliu/zliu/Synthetic_Continued_Pretraining_leo/ckpts/ctrl_RE_id-naive-lr1e-05-rr0-epochs8-bs16-wd0.01-constant-warmup0.05-Qwen2.5-1.5B-Instruct/tokenizer_config.json',\n",
       " '/home/zliu/zliu/Synthetic_Continued_Pretraining_leo/ckpts/ctrl_RE_id-naive-lr1e-05-rr0-epochs8-bs16-wd0.01-constant-warmup0.05-Qwen2.5-1.5B-Instruct/special_tokens_map.json',\n",
       " '/home/zliu/zliu/Synthetic_Continued_Pretraining_leo/ckpts/ctrl_RE_id-naive-lr1e-05-rr0-epochs8-bs16-wd0.01-constant-warmup0.05-Qwen2.5-1.5B-Instruct/vocab.json',\n",
       " '/home/zliu/zliu/Synthetic_Continued_Pretraining_leo/ckpts/ctrl_RE_id-naive-lr1e-05-rr0-epochs8-bs16-wd0.01-constant-warmup0.05-Qwen2.5-1.5B-Instruct/merges.txt',\n",
       " '/home/zliu/zliu/Synthetic_Continued_Pretraining_leo/ckpts/ctrl_RE_id-naive-lr1e-05-rr0-epochs8-bs16-wd0.01-constant-warmup0.05-Qwen2.5-1.5B-Instruct/added_tokens.json',\n",
       " '/home/zliu/zliu/Synthetic_Continued_Pretraining_leo/ckpts/ctrl_RE_id-naive-lr1e-05-rr0-epochs8-bs16-wd0.01-constant-warmup0.05-Qwen2.5-1.5B-Instruct/tokenizer.json')"
      ]
     },
     "execution_count": 12,
     "metadata": {},
     "output_type": "execute_result"
    }
   ],
   "source": [
    "tokenizer.save_pretrained(\"/home/zliu/zliu/Synthetic_Continued_Pretraining_leo/ckpts/ctrl_RE_id-naive-lr1e-05-rr0-epochs8-bs16-wd0.01-constant-warmup0.05-Qwen2.5-1.5B-Instruct\")"
   ]
  },
  {
   "cell_type": "code",
   "execution_count": 40,
   "id": "951dbfba",
   "metadata": {},
   "outputs": [
    {
     "name": "stdout",
     "output_type": "stream",
     "text": [
      "INFO 08-23 20:11:14 [utils.py:326] non-default args: {'model': '/u/zliu/datastor1/shared_resources/models/qwen/Qwen2.5-1.5B-Instruct', 'disable_log_stats': True}\n",
      "INFO 08-23 20:11:14 [__init__.py:711] Resolved architecture: Qwen2ForCausalLM\n",
      "INFO 08-23 20:11:14 [__init__.py:1750] Using max model len 32768\n",
      "INFO 08-23 20:11:14 [scheduler.py:222] Chunked prefill is enabled with max_num_batched_tokens=8192.\n",
      "\u001b[1;36m(EngineCore_0 pid=2302268)\u001b[0;0m INFO 08-23 20:11:15 [core.py:636] Waiting for init message from front-end.\n",
      "\u001b[1;36m(EngineCore_0 pid=2302268)\u001b[0;0m INFO 08-23 20:11:15 [core.py:74] Initializing a V1 LLM engine (v0.10.1.1) with config: model='/u/zliu/datastor1/shared_resources/models/qwen/Qwen2.5-1.5B-Instruct', speculative_config=None, tokenizer='/u/zliu/datastor1/shared_resources/models/qwen/Qwen2.5-1.5B-Instruct', skip_tokenizer_init=False, tokenizer_mode=auto, revision=None, override_neuron_config={}, tokenizer_revision=None, trust_remote_code=False, dtype=torch.bfloat16, max_seq_len=32768, download_dir=None, load_format=auto, tensor_parallel_size=1, pipeline_parallel_size=1, disable_custom_all_reduce=False, quantization=None, enforce_eager=False, kv_cache_dtype=auto, device_config=cuda, decoding_config=DecodingConfig(backend='auto', disable_fallback=False, disable_any_whitespace=False, disable_additional_properties=False, reasoning_backend=''), observability_config=ObservabilityConfig(show_hidden_metrics_for_version=None, otlp_traces_endpoint=None, collect_detailed_traces=None), seed=0, served_model_name=/u/zliu/datastor1/shared_resources/models/qwen/Qwen2.5-1.5B-Instruct, enable_prefix_caching=True, chunked_prefill_enabled=True, use_async_output_proc=True, pooler_config=None, compilation_config={\"level\":3,\"debug_dump_path\":\"\",\"cache_dir\":\"\",\"backend\":\"\",\"custom_ops\":[],\"splitting_ops\":[\"vllm.unified_attention\",\"vllm.unified_attention_with_output\",\"vllm.mamba_mixer2\"],\"use_inductor\":true,\"compile_sizes\":[],\"inductor_compile_config\":{\"enable_auto_functionalized_v2\":false},\"inductor_passes\":{},\"cudagraph_mode\":1,\"use_cudagraph\":true,\"cudagraph_num_of_warmups\":1,\"cudagraph_capture_sizes\":[512,504,496,488,480,472,464,456,448,440,432,424,416,408,400,392,384,376,368,360,352,344,336,328,320,312,304,296,288,280,272,264,256,248,240,232,224,216,208,200,192,184,176,168,160,152,144,136,128,120,112,104,96,88,80,72,64,56,48,40,32,24,16,8,4,2,1],\"cudagraph_copy_inputs\":false,\"full_cuda_graph\":false,\"pass_config\":{},\"max_capture_size\":512,\"local_cache_dir\":null}\n"
     ]
    },
    {
     "name": "stderr",
     "output_type": "stream",
     "text": [
      "huggingface/tokenizers: The current process just got forked, after parallelism has already been used. Disabling parallelism to avoid deadlocks...\n",
      "To disable this warning, you can either:\n",
      "\t- Avoid using `tokenizers` before the fork if possible\n",
      "\t- Explicitly set the environment variable TOKENIZERS_PARALLELISM=(true | false)\n"
     ]
    },
    {
     "name": "stdout",
     "output_type": "stream",
     "text": [
      "\u001b[1;36m(EngineCore_0 pid=2302268)\u001b[0;0m INFO 08-23 20:11:18 [parallel_state.py:1134] rank 0 in world size 1 is assigned as DP rank 0, PP rank 0, TP rank 0, EP rank 0\n",
      "\u001b[1;36m(EngineCore_0 pid=2302268)\u001b[0;0m WARNING 08-23 20:11:18 [topk_topp_sampler.py:61] FlashInfer is not available. Falling back to the PyTorch-native implementation of top-p & top-k sampling. For the best performance, please install FlashInfer.\n",
      "\u001b[1;36m(EngineCore_0 pid=2302268)\u001b[0;0m INFO 08-23 20:11:20 [gpu_model_runner.py:1953] Starting to load model /u/zliu/datastor1/shared_resources/models/qwen/Qwen2.5-1.5B-Instruct...\n",
      "\u001b[1;36m(EngineCore_0 pid=2302268)\u001b[0;0m INFO 08-23 20:11:20 [gpu_model_runner.py:1985] Loading model from scratch...\n",
      "\u001b[1;36m(EngineCore_0 pid=2302268)\u001b[0;0m INFO 08-23 20:11:20 [cuda.py:328] Using Flash Attention backend on V1 engine.\n"
     ]
    },
    {
     "name": "stderr",
     "output_type": "stream",
     "text": [
      "Loading safetensors checkpoint shards:   0% Completed | 0/1 [00:00<?, ?it/s]\n",
      "Loading safetensors checkpoint shards: 100% Completed | 1/1 [00:00<00:00,  2.14it/s]\n",
      "Loading safetensors checkpoint shards: 100% Completed | 1/1 [00:00<00:00,  2.13it/s]\n",
      "\u001b[1;36m(EngineCore_0 pid=2302268)\u001b[0;0m \n"
     ]
    },
    {
     "name": "stdout",
     "output_type": "stream",
     "text": [
      "\u001b[1;36m(EngineCore_0 pid=2302268)\u001b[0;0m INFO 08-23 20:11:21 [default_loader.py:262] Loading weights took 0.61 seconds\n",
      "\u001b[1;36m(EngineCore_0 pid=2302268)\u001b[0;0m INFO 08-23 20:11:22 [gpu_model_runner.py:2007] Model loading took 2.8876 GiB and 0.878612 seconds\n",
      "\u001b[1;36m(EngineCore_0 pid=2302268)\u001b[0;0m INFO 08-23 20:11:28 [backends.py:548] Using cache directory: /u/zliu/.cache/vllm/torch_compile_cache/2ff1af87a3/rank_0_0/backbone for vLLM's torch.compile\n",
      "\u001b[1;36m(EngineCore_0 pid=2302268)\u001b[0;0m INFO 08-23 20:11:28 [backends.py:559] Dynamo bytecode transform time: 6.65 s\n",
      "\u001b[1;36m(EngineCore_0 pid=2302268)\u001b[0;0m INFO 08-23 20:11:35 [backends.py:161] Directly load the compiled graph(s) for dynamic shape from the cache, took 6.204 s\n",
      "\u001b[1;36m(EngineCore_0 pid=2302268)\u001b[0;0m INFO 08-23 20:11:38 [monitor.py:34] torch.compile takes 6.65 s in total\n",
      "\u001b[1;36m(EngineCore_0 pid=2302268)\u001b[0;0m INFO 08-23 20:11:39 [gpu_worker.py:276] Available KV cache memory: 35.60 GiB\n",
      "\u001b[1;36m(EngineCore_0 pid=2302268)\u001b[0;0m INFO 08-23 20:11:39 [kv_cache_utils.py:849] GPU KV cache size: 1,333,296 tokens\n",
      "\u001b[1;36m(EngineCore_0 pid=2302268)\u001b[0;0m INFO 08-23 20:11:39 [kv_cache_utils.py:853] Maximum concurrency for 32,768 tokens per request: 40.69x\n"
     ]
    },
    {
     "name": "stderr",
     "output_type": "stream",
     "text": [
      "Capturing CUDA graphs (mixed prefill-decode, PIECEWISE): 100%|██████████| 67/67 [00:04<00:00, 15.46it/s]\n"
     ]
    },
    {
     "name": "stdout",
     "output_type": "stream",
     "text": [
      "\u001b[1;36m(EngineCore_0 pid=2302268)\u001b[0;0m INFO 08-23 20:11:44 [gpu_model_runner.py:2708] Graph capturing finished in 5 secs, took 1.55 GiB\n",
      "\u001b[1;36m(EngineCore_0 pid=2302268)\u001b[0;0m INFO 08-23 20:11:44 [core.py:214] init engine (profile, create kv cache, warmup model) took 22.37 seconds\n",
      "INFO 08-23 20:11:45 [llm.py:298] Supported_tasks: ['generate']\n"
     ]
    },
    {
     "name": "stdout",
     "output_type": "stream",
     "text": [
      "ERROR 08-23 20:54:47 [core_client.py:562] Engine core proc EngineCore_0 died unexpectedly, shutting down client.\n"
     ]
    }
   ],
   "source": [
    "import os\n",
    "os.environ[\"CUDA_VISIBLE_DEVICES\"] = \"1\"\n",
    "\n",
    "\n",
    "model = LLM(\n",
    "    model_name_or_path,  \n",
    ")"
   ]
  },
  {
   "cell_type": "code",
   "execution_count": 41,
   "id": "42cb0221",
   "metadata": {},
   "outputs": [],
   "source": [
    "\n",
    "sampling_params = SamplingParams(\n",
    "    max_tokens=1024,\n",
    "    top_p=1,\n",
    "    temperature=0,\n",
    "    n=1,\n",
    "    skip_special_tokens=False,\n",
    ")"
   ]
  },
  {
   "cell_type": "code",
   "execution_count": 31,
   "id": "65da4ec0",
   "metadata": {},
   "outputs": [
    {
     "name": "stdout",
     "output_type": "stream",
     "text": [
      "WARNING 08-23 20:02:33 [__init__.py:1625] Default sampling parameters have been overridden by the model's Hugging Face generation config recommended from the model creator. If this is not intended, please relaunch vLLM instance with `--generation-config vllm`.\n"
     ]
    },
    {
     "name": "stderr",
     "output_type": "stream",
     "text": [
      "Adding requests: 100%|██████████| 1/1 [00:00<00:00, 769.60it/s]\n",
      "Processed prompts: 100%|██████████| 1/1 [00:00<00:00,  5.14it/s, est. speed input: 36.18 toks/s, output: 82.68 toks/s]\n"
     ]
    },
    {
     "data": {
      "text/plain": [
       "[RequestOutput(request_id=0, prompt='What is the capital of France?', prompt_token_ids=[3838, 374, 279, 6722, 315, 9625, 30], encoder_prompt=None, encoder_prompt_token_ids=None, prompt_logprobs=None, outputs=[CompletionOutput(index=0, text=' Paris. It is located in northern France, near the River Seine. The', token_ids=[12095, 13, 1084, 374, 7407, 304, 18172, 9625, 11, 3143, 279, 10948, 1345, 482, 13, 576], cumulative_logprob=None, logprobs=None, finish_reason=length, stop_reason=None)], finished=True, metrics=None, lora_request=None, num_cached_tokens=0, multi_modal_placeholders={})]"
      ]
     },
     "execution_count": 31,
     "metadata": {},
     "output_type": "execute_result"
    }
   ],
   "source": [
    "model.generate([\"What is the capital of France?\"])"
   ]
  },
  {
   "cell_type": "code",
   "execution_count": null,
   "id": "0795476e",
   "metadata": {},
   "outputs": [],
   "source": []
  },
  {
   "cell_type": "code",
   "execution_count": 64,
   "id": "17ef50a8",
   "metadata": {},
   "outputs": [],
   "source": [
    "\n",
    "\n",
    "def load_controlled_RE_data(file_path):\n",
    "    samples = io.load_jsonlines(file_path)\n",
    "    lst = []\n",
    "    for s in samples:\n",
    "        questions = s[\"questions\"]\n",
    "        for q in questions:\n",
    "            q[\"text\"] = s[\"text\"]\n",
    "        lst.extend(questions)\n",
    "    return Dataset.from_list(lst)"
   ]
  },
  {
   "cell_type": "code",
   "execution_count": 65,
   "id": "50bc384a",
   "metadata": {},
   "outputs": [],
   "source": [
    "controlled_RE_ds = load_controlled_RE_data(\"/u/zliu/datastor1/Synthetic_Continued_Pretraining/data/dataset/raw/4K_controlled_RE/test_id_sample.jsonl\")"
   ]
  },
  {
   "cell_type": "code",
   "execution_count": 66,
   "id": "3e5ba59a",
   "metadata": {},
   "outputs": [
    {
     "data": {
      "text/plain": [
       "Dataset({\n",
       "    features: ['question_template', 'alias_question', 'unalias_question', 'alias_question_paraphrase', 'unalias_question_paraphrase', 'entity_name', 'answer', 'fact_idx', 'text'],\n",
       "    num_rows: 232\n",
       "})"
      ]
     },
     "execution_count": 66,
     "metadata": {},
     "output_type": "execute_result"
    }
   ],
   "source": [
    "controlled_RE_ds"
   ]
  },
  {
   "cell_type": "code",
   "execution_count": null,
   "id": "bddfc40d",
   "metadata": {},
   "outputs": [],
   "source": [
    "def get_messages_from_problem(problem, dataset_name=\"controlled_RE\"):\n",
    "    \"\"\"Extract messages from problem for vLLM API\"\"\"\n",
    "    \n",
    "    if dataset_name in [\"controlled_RE_efficacy\", \"controlled_RE_specificity\"]:\n",
    "        return [\n",
    "            {\"role\": \"user\", \"content\": problem}\n",
    "        ]\n",
    "    else:\n",
    "        raise ValueError(f\"Invalid dataset name: {dataset_name}\")\n",
    "    "
   ]
  },
  {
   "cell_type": "code",
   "execution_count": null,
   "id": "b1c42c8b",
   "metadata": {},
   "outputs": [],
   "source": []
  },
  {
   "cell_type": "code",
   "execution_count": 96,
   "id": "5e1c5536",
   "metadata": {},
   "outputs": [],
   "source": [
    "eval_data_name = \"controlled_RE_specificity\"\n",
    "\n",
    "if eval_data_name == \"controlled_RE_efficacy\":\n",
    "    problem_key = \"alias_question\"\n",
    "    answer_key = \"answer\"\n",
    "elif eval_data_name == \"controlled_RE_specificity\":\n",
    "    problem_key = \"unalias_question\"\n",
    "    answer_key = \"answer\"\n",
    "else:\n",
    "    raise ValueError(f\"Invalid dataset name: {eval_data_name}\")\n",
    "\n",
    "\n",
    "\n",
    "\n",
    "\n"
   ]
  },
  {
   "cell_type": "code",
   "execution_count": null,
   "id": "b5514877",
   "metadata": {},
   "outputs": [],
   "source": [
    "model_name_or_path_base = os.path.basename(model_name_or_path)\n",
    "save_dir = f\"/u/zliu/datastor1/Synthetic_Continued_Pretraining/eval_results/{model_name_or_path_base}\"\n",
    "os.makedirs(save_dir, exist_ok=True)"
   ]
  },
  {
   "cell_type": "code",
   "execution_count": 87,
   "id": "70dd3b46",
   "metadata": {},
   "outputs": [
    {
     "data": {
      "text/plain": [
       "'Qwen2.5-1.5B-Instruct'"
      ]
     },
     "execution_count": 87,
     "metadata": {},
     "output_type": "execute_result"
    }
   ],
   "source": [
    "model_name_or_path_base"
   ]
  },
  {
   "cell_type": "code",
   "execution_count": 97,
   "id": "558dc6cd",
   "metadata": {},
   "outputs": [],
   "source": [
    "all_messages = [get_messages_from_problem(controlled_RE_ds[i][problem_key], dataset_name=eval_data_name) for i in range(len(controlled_RE_ds))]"
   ]
  },
  {
   "cell_type": "code",
   "execution_count": 116,
   "id": "24d8c46e",
   "metadata": {},
   "outputs": [],
   "source": [
    "all_messages = [get_messages_from_problem(d[problem_key], dataset_name=eval_data_name) for d in controlled_RE_ds]"
   ]
  },
  {
   "cell_type": "code",
   "execution_count": 117,
   "id": "d308c9fe",
   "metadata": {},
   "outputs": [
    {
     "data": {
      "text/plain": [
       "[{'role': 'user',\n",
       "  'content': 'What occupation is Franklin D. Roosevelt most well-known for?'}]"
      ]
     },
     "execution_count": 117,
     "metadata": {},
     "output_type": "execute_result"
    }
   ],
   "source": [
    "all_messages[0]"
   ]
  },
  {
   "cell_type": "code",
   "execution_count": 98,
   "id": "f5472ae8",
   "metadata": {},
   "outputs": [],
   "source": [
    "texts = tokenizer.apply_chat_template(all_messages, tokenize=False, add_generation_prompt=True)"
   ]
  },
  {
   "cell_type": "code",
   "execution_count": 99,
   "id": "37a2eb45",
   "metadata": {},
   "outputs": [
    {
     "name": "stdout",
     "output_type": "stream",
     "text": [
      "<|im_start|>system\n",
      "You are Qwen, created by Alibaba Cloud. You are a helpful assistant.<|im_end|>\n",
      "<|im_start|>user\n",
      "What occupation is Franklin D. Roosevelt most well-known for?<|im_end|>\n",
      "<|im_start|>assistant\n",
      "\n"
     ]
    }
   ],
   "source": [
    "print(texts[0])"
   ]
  },
  {
   "cell_type": "code",
   "execution_count": 100,
   "id": "8c4e80fe",
   "metadata": {},
   "outputs": [
    {
     "name": "stderr",
     "output_type": "stream",
     "text": [
      "Adding requests: 100%|██████████| 232/232 [00:00<00:00, 3821.12it/s]\n",
      "Processed prompts: 100%|██████████| 232/232 [00:08<00:00, 27.77it/s, est. speed input: 1067.15 toks/s, output: 1211.86 toks/s]  \n"
     ]
    }
   ],
   "source": [
    "outputs = model.generate(texts, sampling_params=sampling_params)"
   ]
  },
  {
   "cell_type": "code",
   "execution_count": 101,
   "id": "f4c8987b",
   "metadata": {},
   "outputs": [],
   "source": [
    "results = []\n",
    "for idx, output in enumerate(outputs):\n",
    "    \n",
    "    for sample_idx, out in enumerate(output.outputs):\n",
    "        results.append({\n",
    "            \"text\": controlled_RE_ds[idx][\"text\"],\n",
    "            \"question\": controlled_RE_ds[idx][problem_key],\n",
    "            \"eval_data_name\": eval_data_name,\n",
    "            \"ground_truth_answer\": controlled_RE_ds[idx][answer_key],\n",
    "            \"sample_id\": sample_idx,\n",
    "            \"model_response\": out.text\n",
    "        })"
   ]
  },
  {
   "cell_type": "code",
   "execution_count": 102,
   "id": "8cb22ba6",
   "metadata": {},
   "outputs": [],
   "source": [
    "pd.DataFrame(results).to_excel(f\"{save_dir}/{eval_data_name}_hard.xlsx\")"
   ]
  },
  {
   "cell_type": "code",
   "execution_count": null,
   "id": "072214b3",
   "metadata": {},
   "outputs": [],
   "source": []
  }
 ],
 "metadata": {
  "kernelspec": {
   "display_name": "eff-kp",
   "language": "python",
   "name": "python3"
  },
  "language_info": {
   "codemirror_mode": {
    "name": "ipython",
    "version": 3
   },
   "file_extension": ".py",
   "mimetype": "text/x-python",
   "name": "python",
   "nbconvert_exporter": "python",
   "pygments_lexer": "ipython3",
   "version": "3.10.18"
  }
 },
 "nbformat": 4,
 "nbformat_minor": 5
}
