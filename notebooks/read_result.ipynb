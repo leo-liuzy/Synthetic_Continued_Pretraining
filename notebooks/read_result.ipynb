{
 "cells": [
  {
   "cell_type": "code",
   "execution_count": 15,
   "id": "993e624f",
   "metadata": {},
   "outputs": [],
   "source": [
    "from glob import glob\n",
    "import os\n",
    "import pandas as pd\n"
   ]
  },
  {
   "cell_type": "markdown",
   "id": "ed497679",
   "metadata": {},
   "source": [
    "# Get LLM-as-Judge results"
   ]
  },
  {
   "cell_type": "code",
   "execution_count": 87,
   "id": "88e3b1d5",
   "metadata": {},
   "outputs": [
    {
     "name": "stdout",
     "output_type": "stream",
     "text": [
      "controlled_RE_efficacy [n=232]\n",
      "soft: 40.1\n",
      "hard: 11.2\n",
      "----------------------------------------------------------------------------------------------------\n",
      "controlled_RE_specificity [n=232]\n",
      "soft: 68.1\n",
      "hard: 51.3\n",
      "----------------------------------------------------------------------------------------------------\n",
      "mmlu_0shot_cot [n=570]\n",
      "soft: 69.8\n",
      "hard: 63.2\n",
      "----------------------------------------------------------------------------------------------------\n"
     ]
    }
   ],
   "source": [
    "\n",
    "# result_dir = \"/u/zliu/datastor1/Synthetic_Continued_Pretraining/eval_results/Qwen2.5-1.5B-Instruct\"\n",
    "# result_dir = \"/u/zliu/datastor1/Synthetic_Continued_Pretraining/eval_results/controlled_RE_id-naive-lr1e-05-rr0.0-epochs2-bs16-wd0.01-constant-warmup0.05-Qwen2.5-1.5B-Instruct\"\n",
    "# result_dir = \"/u/zliu/datastor1/Synthetic_Continued_Pretraining/eval_results/controlled_RE_id-entigraph-lr1e-05-rr0.1-epochs2-bs16-wd0.01-cosine-warmup0.05-Qwen2.5-1.5B-Instruct\"\n",
    "result_dir = \"/u/zliu/datastor1/Synthetic_Continued_Pretraining/eval_results/controlled_RE_id-entigraph-lr1e-05-rr0.0-epochs2-bs16-wd0.01-cosine-warmup0.05-Qwen2.5-1.5B-Instruct\"\n",
    "\n",
    "result_dir = \"/u/zliu/datastor1/Synthetic_Continued_Pretraining/eval_results/DeepSeek-R1-Distill-Qwen-7B\"\n",
    "\n",
    "# llm_judge_type = \"hard\"\n",
    "# result_files = glob(os.path.join(result_dir, \"*.xlsx\"))\n",
    "\n",
    "eval_data_names = [\"controlled_RE_efficacy\", \"controlled_RE_specificity\", \"mmlu_0shot_cot\"]\n",
    "for eval_data_name in eval_data_names:\n",
    "    result_file = os.path.join(result_dir, f\"{eval_data_name}_llm-judge.xlsx\")\n",
    "    if not os.path.exists(result_file):\n",
    "        continue\n",
    "    df = pd.read_excel(result_file)\n",
    "    print(f\"{eval_data_name} [n={len(df)}]\")\n",
    "    \n",
    "    \n",
    "    for llm_judge_type in [\"soft\", \"hard\"]:\n",
    "        if f\"llm_accuracy-{llm_judge_type}\" not in df.columns:\n",
    "            continue\n",
    "        print(f\"{llm_judge_type}: {((df.describe()[f'llm_accuracy-{llm_judge_type}']['mean'] * 100).round(1).astype(str))}\")\n",
    "    print(\"-\" * 100)"
   ]
  },
  {
   "cell_type": "code",
   "execution_count": null,
   "id": "cb4c090a",
   "metadata": {},
   "outputs": [],
   "source": []
  }
 ],
 "metadata": {
  "kernelspec": {
   "display_name": "eff-kp",
   "language": "python",
   "name": "python3"
  },
  "language_info": {
   "codemirror_mode": {
    "name": "ipython",
    "version": 3
   },
   "file_extension": ".py",
   "mimetype": "text/x-python",
   "name": "python",
   "nbconvert_exporter": "python",
   "pygments_lexer": "ipython3",
   "version": "3.10.18"
  }
 },
 "nbformat": 4,
 "nbformat_minor": 5
}
