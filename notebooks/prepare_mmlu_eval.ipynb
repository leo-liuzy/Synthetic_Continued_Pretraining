{
 "cells": [
  {
   "cell_type": "code",
   "execution_count": 65,
   "id": "8486c4f2",
   "metadata": {},
   "outputs": [],
   "source": [
    "import numpy as np\n",
    "from tqdm import tqdm\n",
    "from datasets import load_dataset, concatenate_datasets, load_from_disk\n",
    "\n",
    "subset_names = ['abstract_algebra', 'anatomy', 'astronomy', 'business_ethics', 'clinical_knowledge', 'college_biology', 'college_chemistry', 'college_computer_science', 'college_mathematics', 'college_medicine', 'college_physics', 'computer_security', 'conceptual_physics', 'econometrics', 'electrical_engineering', 'elementary_mathematics', 'formal_logic', 'global_facts', 'high_school_biology', 'high_school_chemistry', 'high_school_computer_science', 'high_school_european_history', 'high_school_geography', 'high_school_government_and_politics', 'high_school_macroeconomics', 'high_school_mathematics', 'high_school_microeconomics', 'high_school_physics', 'high_school_psychology', 'high_school_statistics', 'high_school_us_history', 'high_school_world_history', 'human_aging', 'human_sexuality', 'international_law', 'jurisprudence', 'logical_fallacies', 'machine_learning', 'management', 'marketing', 'medical_genetics', 'miscellaneous', 'moral_disputes', 'moral_scenarios', 'nutrition', 'philosophy', 'prehistory', 'professional_accounting', 'professional_law', 'professional_medicine', 'professional_psychology', 'public_relations', 'security_studies', 'sociology', 'us_foreign_policy', 'virology', 'world_religions']\n",
    "\n"
   ]
  },
  {
   "cell_type": "code",
   "execution_count": 7,
   "id": "316967ad",
   "metadata": {},
   "outputs": [
    {
     "data": {
      "text/plain": [
       "57"
      ]
     },
     "execution_count": 7,
     "metadata": {},
     "output_type": "execute_result"
    }
   ],
   "source": [
    "len(subset_names)"
   ]
  },
  {
   "cell_type": "code",
   "execution_count": null,
   "id": "38caa209",
   "metadata": {},
   "outputs": [],
   "source": []
  },
  {
   "cell_type": "code",
   "execution_count": 66,
   "id": "89d1ba59",
   "metadata": {},
   "outputs": [
    {
     "name": "stderr",
     "output_type": "stream",
     "text": [
      "100%|██████████| 57/57 [00:32<00:00,  1.73it/s]\n"
     ]
    }
   ],
   "source": [
    "sampled_datasets = []\n",
    "for subset_name in tqdm(subset_names[:]):\n",
    "    ds = load_dataset(\"cais/mmlu\", subset_name, split=\"test\")\n",
    "    # rand_ids = np.random.choice(len(ds), 10, replace=False)\n",
    "    rand_ids = np.arange(len(ds))\n",
    "    sampled_ds = ds.select(rand_ids)\n",
    "    sampled_datasets.append(sampled_ds)\n"
   ]
  },
  {
   "cell_type": "code",
   "execution_count": 67,
   "id": "a2bc621b",
   "metadata": {},
   "outputs": [],
   "source": [
    "sampled_ds = concatenate_datasets(sampled_datasets)"
   ]
  },
  {
   "cell_type": "code",
   "execution_count": null,
   "id": "bfaa1284",
   "metadata": {},
   "outputs": [],
   "source": []
  },
  {
   "cell_type": "code",
   "execution_count": 51,
   "id": "6cb301ef",
   "metadata": {},
   "outputs": [
    {
     "data": {
      "text/plain": [
       "{'question': \"Statement 1 | For any two groups G and G', there exists a homomorphism of G into G'. Statement 2 | Every homomorphism is a one-to-one map.\",\n",
       " 'subject': 'abstract_algebra',\n",
       " 'choices': ['True, True', 'False, False', 'True, False', 'False, True'],\n",
       " 'answer': 2}"
      ]
     },
     "execution_count": 51,
     "metadata": {},
     "output_type": "execute_result"
    }
   ],
   "source": [
    "sampled_ds[0]"
   ]
  },
  {
   "cell_type": "code",
   "execution_count": 68,
   "id": "ba698e29",
   "metadata": {},
   "outputs": [
    {
     "name": "stderr",
     "output_type": "stream",
     "text": [
      "Map: 100%|██████████| 14042/14042 [00:00<00:00, 14369.32 examples/s]\n"
     ]
    }
   ],
   "source": [
    "\n",
    "\n",
    "def format_qa(example):\n",
    "    CHOICE_NAMES = ['A', 'B', 'C', 'D']\n",
    "    choices_text = \"\\n\".join([f\"{choice_name}. {choice_text}\" for choice_name, choice_text in zip(CHOICE_NAMES, example[\"choices\"])])\n",
    "    formatted = example[\"question\"] + \"\\n\" + choices_text\n",
    "    answer = CHOICE_NAMES[example[\"answer\"]]\n",
    "    return {\"question_choices_formatted\": formatted, \"answer_letter\": answer}\n",
    "\n",
    "sampled_ds = sampled_ds.map(format_qa)\n"
   ]
  },
  {
   "cell_type": "code",
   "execution_count": 63,
   "id": "3691e4e4",
   "metadata": {},
   "outputs": [
    {
     "data": {
      "text/plain": [
       "{'question': \"Statement 1 | For any two groups G and G', there exists a homomorphism of G into G'. Statement 2 | Every homomorphism is a one-to-one map.\",\n",
       " 'subject': 'abstract_algebra',\n",
       " 'choices': ['True, True', 'False, False', 'True, False', 'False, True'],\n",
       " 'answer': 2,\n",
       " 'question_choices_formatted': \"Statement 1 | For any two groups G and G', there exists a homomorphism of G into G'. Statement 2 | Every homomorphism is a one-to-one map.\\nA. True, True\\nB. False, False\\nC. True, False\\nD. False, True\",\n",
       " 'answer_letter': 'C'}"
      ]
     },
     "execution_count": 63,
     "metadata": {},
     "output_type": "execute_result"
    }
   ],
   "source": [
    "sampled_ds[0]"
   ]
  },
  {
   "cell_type": "code",
   "execution_count": 53,
   "id": "5de097c0",
   "metadata": {},
   "outputs": [
    {
     "name": "stdout",
     "output_type": "stream",
     "text": [
      "Statement 1 | For any two groups G and G', there exists a homomorphism of G into G'. Statement 2 | Every homomorphism is a one-to-one map.\n",
      "A. True, True\n",
      "B. False, False\n",
      "C. True, False\n",
      "D. False, True\n"
     ]
    }
   ],
   "source": [
    "print(sampled_ds[0][\"question_choices_formatted\"])"
   ]
  },
  {
   "cell_type": "code",
   "execution_count": 64,
   "id": "a6b8e721",
   "metadata": {},
   "outputs": [
    {
     "name": "stderr",
     "output_type": "stream",
     "text": [
      "Saving the dataset (1/1 shards): 100%|██████████| 570/570 [00:00<00:00, 34241.67 examples/s]\n"
     ]
    }
   ],
   "source": [
    "sampled_ds.save_to_disk(\"/u/zliu/datastor1/Synthetic_Continued_Pretraining/data/dataset/raw/sampled_mmlu\")"
   ]
  },
  {
   "cell_type": "code",
   "execution_count": 57,
   "id": "d7a9eb71",
   "metadata": {},
   "outputs": [
    {
     "data": {
      "text/plain": [
       "Dataset({\n",
       "    features: ['question', 'subject', 'choices', 'answer', 'question_choices_formatted'],\n",
       "    num_rows: 570\n",
       "})"
      ]
     },
     "execution_count": 57,
     "metadata": {},
     "output_type": "execute_result"
    }
   ],
   "source": [
    "load_from_disk(\"/u/zliu/datastor1/Synthetic_Continued_Pretraining/data/dataset/raw/sampled_mmlu\")"
   ]
  },
  {
   "cell_type": "code",
   "execution_count": 59,
   "id": "aebe21fb",
   "metadata": {},
   "outputs": [
    {
     "data": {
      "text/plain": [
       "'/data/dataset/raw/4K_controlled_RE'"
      ]
     },
     "execution_count": 59,
     "metadata": {},
     "output_type": "execute_result"
    }
   ],
   "source": [
    "import os\n",
    "os.path.join(\"/\", \"data\", \"dataset\", \"raw\", \"4K_controlled_RE\")"
   ]
  },
  {
   "cell_type": "code",
   "execution_count": null,
   "id": "11e44112",
   "metadata": {},
   "outputs": [],
   "source": []
  }
 ],
 "metadata": {
  "kernelspec": {
   "display_name": "eff-kp",
   "language": "python",
   "name": "python3"
  },
  "language_info": {
   "codemirror_mode": {
    "name": "ipython",
    "version": 3
   },
   "file_extension": ".py",
   "mimetype": "text/x-python",
   "name": "python",
   "nbconvert_exporter": "python",
   "pygments_lexer": "ipython3",
   "version": "3.10.18"
  }
 },
 "nbformat": 4,
 "nbformat_minor": 5
}
