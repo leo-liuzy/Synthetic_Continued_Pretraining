{
 "cells": [
  {
   "cell_type": "code",
   "execution_count": 2,
   "id": "d1f7f6f3",
   "metadata": {},
   "outputs": [],
   "source": [
    "from knowledge_propagation.utils import vars, io, extractor, misc\n",
    "import pandas as pd\n",
    "from collections import defaultdict\n",
    "import os"
   ]
  },
  {
   "cell_type": "code",
   "execution_count": 3,
   "id": "e886b731",
   "metadata": {},
   "outputs": [],
   "source": [
    "task_agnostic_strategy_generation_prompt = \"\"\"\n",
    "Consider the following document. What are some strategies specific to this document that I can use to help me learn and remember all of the information contained? Use markdown and prefix each strategy with ##\n",
    "\n",
    "<document>\n",
    "{chunk}\n",
    "</document>\n",
    "\"\"\"\n",
    "task_specific_strategy_generation_prompt = \"\"\"\n",
    "I need to study for a trivia competition. Generate a list of questions that covers every piece of information in this document. After generating all the questions, for each question, generate a general study strategy or prompt that would help me memorize that kind of information (without focusing too much on the particular question). The prompt should outline a detailed set of guidelines or step-by-step for how I should rehearse or exercise the information to most effectively internalize it.\n",
    "\n",
    "Output all the questions, then <start_strategies>, then all the strategies. Prefix each strategy with a ##.\n",
    "\n",
    "<document>\n",
    "{chunk}\n",
    "</document>\n",
    "\"\"\"\n",
    "\n",
    "active_reading_w_strategy = \"\"\"\n",
    "Here's a learning strategy:\n",
    "{strategy}\n",
    "\n",
    "Apply this strategy to the following document:\n",
    "<document>\n",
    "{chunk}\n",
    "</document>\n",
    "\"\"\""
   ]
  },
  {
   "cell_type": "code",
   "execution_count": 4,
   "id": "56ea6796",
   "metadata": {},
   "outputs": [],
   "source": [
    "test_split_name = \"test_id_sample\""
   ]
  },
  {
   "cell_type": "code",
   "execution_count": 16,
   "id": "1f5f1ad4",
   "metadata": {},
   "outputs": [],
   "source": [
    "test_data = io.load_jsonlines(f\"/home/zliu/zliu/Synthetic_Continued_Pretraining_leo/data/dataset/raw/4K_controlled_RE/{test_split_name}.jsonl\")\n",
    "text2id = {example[\"text\"]: i for i, example in enumerate(test_data)}\n",
    "id2text = {i: example[\"text\"] for i, example in enumerate(test_data)}"
   ]
  },
  {
   "cell_type": "code",
   "execution_count": null,
   "id": "9742f073",
   "metadata": {},
   "outputs": [],
   "source": []
  },
  {
   "cell_type": "markdown",
   "id": "862320b9",
   "metadata": {},
   "source": [
    "# strategy generation prompts for both"
   ]
  },
  {
   "cell_type": "code",
   "execution_count": 22,
   "id": "3b452f54",
   "metadata": {},
   "outputs": [],
   "source": [
    "active_reading_strategy_df_content = []\n",
    "\n",
    "for i, example in enumerate(test_data):\n",
    "    active_reading_strategy_df_content.append(\n",
    "        {\n",
    "            \"text\": example[\"text\"],\n",
    "            \"prompt\": task_agnostic_strategy_generation_prompt.format(chunk=example[\"text\"]),\n",
    "            \"prompt_type\": \"task_agnostic\",\n",
    "        }\n",
    "    )\n",
    "    active_reading_strategy_df_content.append(\n",
    "        {\n",
    "            \"text\": example[\"text\"],\n",
    "            \"prompt\": task_specific_strategy_generation_prompt.format(chunk=example[\"text\"]),\n",
    "            \"prompt_type\": \"task_specific\",\n",
    "        }\n",
    "    )"
   ]
  },
  {
   "cell_type": "code",
   "execution_count": null,
   "id": "7a6edf6f",
   "metadata": {},
   "outputs": [],
   "source": [
    "# io.dump_jsonlines(active_reading_strategy_df_content, f\"/home/zliu/zliu/Synthetic_Continued_Pretraining_leo/data/dataset/raw/4K_controlled_RE/{test_split_name}_active_reading_strategy_construction.jsonl\")"
   ]
  },
  {
   "cell_type": "code",
   "execution_count": 24,
   "id": "6216811f",
   "metadata": {},
   "outputs": [],
   "source": [
    "active_reading_strategy_completions = io.load_jsonlines(f\"/home/zliu/zliu/Synthetic_Continued_Pretraining_leo/data/dataset/raw/4K_controlled_RE/{test_split_name}_active_reading_strategy_construction_generated(gpt-5).jsonl\")"
   ]
  },
  {
   "cell_type": "code",
   "execution_count": 37,
   "id": "46816cdf",
   "metadata": {},
   "outputs": [],
   "source": [
    "# print(active_reading_strategy_completions[0][\"completion\"])"
   ]
  },
  {
   "cell_type": "code",
   "execution_count": 35,
   "id": "81a4fe96",
   "metadata": {},
   "outputs": [],
   "source": [
    "def learning_strategy_extractor(text):\n",
    "    import regex as re\n",
    "    pattern = re.compile(\n",
    "        r\"##\\s*(?P<title>.+?)\\n(?P<content>(?:.*?\\n?)*?)(?=##|\\Z)\",\n",
    "        re.DOTALL\n",
    "    )\n",
    "\n",
    "    learning_strategies = []\n",
    "    matches = pattern.finditer(text)\n",
    "    for m in matches:\n",
    "        title = m.group(\"title\").strip()\n",
    "        content = m.group(\"content\").strip()\n",
    "        learning_strategies.append({\n",
    "            \"title\": title,\n",
    "            \"content\": content\n",
    "        })\n",
    "    return learning_strategies"
   ]
  },
  {
   "cell_type": "code",
   "execution_count": 36,
   "id": "149f2a2b",
   "metadata": {},
   "outputs": [],
   "source": [
    "learning_strategies = learning_strategy_extractor(active_reading_strategy_completions[0][\"completion\"])\n"
   ]
  },
  {
   "cell_type": "code",
   "execution_count": 53,
   "id": "f6052ee4",
   "metadata": {},
   "outputs": [
    {
     "data": {
      "text/plain": [
       "100"
      ]
     },
     "execution_count": 53,
     "metadata": {},
     "output_type": "execute_result"
    }
   ],
   "source": [
    "len(active_reading_strategy_completions)"
   ]
  },
  {
   "cell_type": "code",
   "execution_count": 39,
   "id": "4059a668",
   "metadata": {},
   "outputs": [],
   "source": [
    "active_reading_augmentation_df_content = []\n",
    "\n",
    "for example in active_reading_strategy_completions:\n",
    "    learning_strategies = learning_strategy_extractor(example[\"completion\"])\n",
    "    for learning_strategy in learning_strategies:\n",
    "        active_reading_augmentation_df_content.append({\n",
    "            \"text\": example[\"text\"],\n",
    "            \"prompt\": active_reading_w_strategy.format(strategy=learning_strategy[\"content\"], chunk=example[\"text\"]),\n",
    "            \"learning_strategy_type\": example[\"prompt_type\"],\n",
    "            \"learning_strategy_title\": learning_strategy[\"title\"],\n",
    "        })\n"
   ]
  },
  {
   "cell_type": "code",
   "execution_count": 46,
   "id": "fe9423d1",
   "metadata": {},
   "outputs": [
    {
     "name": "stdout",
     "output_type": "stream",
     "text": [
      "\n",
      "Here's a learning strategy:\n",
      "- Draw three steps labeled: 1) 8th grade, 2) College, 3) After graduation. Place the matching names on each step: Wordsworth → Marie Antoinette → Franklin D. Roosevelt.\n",
      "\n",
      "Apply this strategy to the following document:\n",
      "<document>\n",
      "Mia Lewis first wrote about William Wordsworth in an 8th-grade book report. In college, she focused her thesis on Marie Antoinette. After graduation, she curated museum exhibitions to honor Franklin D. Roosevelt.\n",
      "</document>\n",
      "\n"
     ]
    }
   ],
   "source": [
    "print(active_reading_augmentation_df_content[0][\"prompt\"])"
   ]
  },
  {
   "cell_type": "code",
   "execution_count": null,
   "id": "2f35cde9",
   "metadata": {},
   "outputs": [],
   "source": [
    "# io.dump_jsonlines(active_reading_augmentation_df_content, f\"/home/zliu/zliu/Synthetic_Continued_Pretraining_leo/data/dataset/raw/4K_controlled_RE/{test_split_name}_active_reading_augmentation.jsonl\")"
   ]
  },
  {
   "cell_type": "code",
   "execution_count": 7,
   "id": "af92e9f2",
   "metadata": {},
   "outputs": [],
   "source": [
    "active_reading_augmentation_generated = io.load_jsonlines(f\"/home/zliu/zliu/Synthetic_Continued_Pretraining_leo/data/dataset/raw/4K_controlled_RE/{test_split_name}_active_reading_augmentation_generated(gpt-5).jsonl\")"
   ]
  },
  {
   "cell_type": "code",
   "execution_count": 8,
   "id": "ccaaa717",
   "metadata": {},
   "outputs": [
    {
     "name": "stdout",
     "output_type": "stream",
     "text": [
      "1) 8th grade: William Wordsworth\n",
      "2) College: Marie Antoinette\n",
      "3) After graduation: Franklin D. Roosevelt\n"
     ]
    }
   ],
   "source": [
    "print(active_reading_augmentation_generated[0][\"completion\"])"
   ]
  },
  {
   "cell_type": "code",
   "execution_count": 9,
   "id": "195982ea",
   "metadata": {},
   "outputs": [
    {
     "data": {
      "text/plain": [
       "1016"
      ]
     },
     "execution_count": 9,
     "metadata": {},
     "output_type": "execute_result"
    }
   ],
   "source": [
    "len(active_reading_augmentation_generated)"
   ]
  },
  {
   "cell_type": "code",
   "execution_count": 10,
   "id": "aa633a62",
   "metadata": {},
   "outputs": [
    {
     "data": {
      "text/plain": [
       "{'text': 'Mia Lewis first wrote about William Wordsworth in an 8th-grade book report. In college, she focused her thesis on Marie Antoinette. After graduation, she curated museum exhibitions to honor Franklin D. Roosevelt.',\n",
       " 'prompt': \"\\nHere's a learning strategy:\\n- Sketch three icons in a row and label them: Book (book report) → Cap (thesis) → Frame (exhibition). Under each, write the name: Wordsworth → Marie Antoinette → FDR.\\n\\nApply this strategy to the following document:\\n<document>\\nMia Lewis first wrote about William Wordsworth in an 8th-grade book report. In college, she focused her thesis on Marie Antoinette. After graduation, she curated museum exhibitions to honor Franklin D. Roosevelt.\\n</document>\\n\",\n",
       " 'learning_strategy_type': 'task_agnostic',\n",
       " 'learning_strategy_title': 'Dual-coding with simple icons',\n",
       " 'completion': 'Book (book report) → Cap (thesis) → Frame (exhibition)\\nWordsworth → Marie Antoinette → FDR'}"
      ]
     },
     "execution_count": 10,
     "metadata": {},
     "output_type": "execute_result"
    }
   ],
   "source": [
    "active_reading_augmentation_generated[3]"
   ]
  },
  {
   "cell_type": "code",
   "execution_count": 11,
   "id": "3f891914",
   "metadata": {},
   "outputs": [
    {
     "data": {
      "text/plain": [
       "483"
      ]
     },
     "execution_count": 11,
     "metadata": {},
     "output_type": "execute_result"
    }
   ],
   "source": [
    "df = pd.DataFrame(active_reading_augmentation_generated)\n",
    "# len(df[df[\"learning_strategy_type\"] == \"task_agnostic\"])\n",
    "len(df[df[\"learning_strategy_type\"] == \"task_specific\"])"
   ]
  },
  {
   "cell_type": "code",
   "execution_count": null,
   "id": "1e7044ec",
   "metadata": {},
   "outputs": [],
   "source": []
  },
  {
   "cell_type": "code",
   "execution_count": null,
   "id": "42d58c45",
   "metadata": {},
   "outputs": [],
   "source": [
    "\n"
   ]
  },
  {
   "cell_type": "code",
   "execution_count": 26,
   "id": "b3262553",
   "metadata": {},
   "outputs": [],
   "source": [
    "# learning_strategy_types = [\"task_agnostic\",]\n",
    "# learning_strategy_types = [\"task_specific\",]\n",
    "learning_strategy_types = [\"task_agnostic\", \"task_specific\"]\n",
    "\n",
    "id2augmentation = {}\n",
    "\n",
    "for augmentation in active_reading_augmentation_generated:\n",
    "    assert augmentation[\"text\"] in text2id\n",
    "    if augmentation[\"learning_strategy_type\"] not in learning_strategy_types:\n",
    "        continue\n",
    "    if text2id[augmentation[\"text\"]] not in id2augmentation:\n",
    "        id2augmentation[text2id[augmentation[\"text\"]]] = [None]\n",
    "    id2augmentation[text2id[augmentation[\"text\"]]].append(augmentation[\"completion\"])\n",
    "# len(id2augmentation)\n",
    "\n",
    "aug_dir = f\"/home/zliu/zliu/Synthetic_Continued_Pretraining_leo/data/dataset/raw/4K_controlled_RE/{test_split_name}/active_reading-{'-'.join(learning_strategy_types)}\"\n",
    "os.makedirs(aug_dir, exist_ok=True)\n",
    "for id, augmentations in id2augmentation.items():\n",
    "    # pass\n",
    "    augmentations.insert(1, id2text[id])\n",
    "    io.dump_json(augmentations, os.path.join(aug_dir, f\"{id}.json\"))\n"
   ]
  },
  {
   "cell_type": "code",
   "execution_count": 27,
   "id": "b12207f7",
   "metadata": {},
   "outputs": [
    {
     "data": {
      "text/plain": [
       "[None,\n",
       " 'Ryan Kelly was born in India. He spent most of his adult life in Oman. After retirement, he lived in Norway and passed away.',\n",
       " '- Chronological order: ION (India → Oman → Norway)\\n- Chant: “ION: birth in India, work in Oman, rest in Norway.”\\n- Applied: Ryan Kelly = ION — born in India, spent most adult life in Oman, retired and passed away in Norway.',\n",
       " '- Born → India\\n- Adult → Oman\\n- Retired → Norway\\n\\nBAR over ION. BAR over ION.',\n",
       " 'For Ryan Kelly:\\n- Left: 👶 India\\n- Middle: 💼 Oman\\n- Right: 🕯️ Norway\\n\\n10-sec redraw: 👶 India | 💼 Oman | 🕯️ Norway',\n",
       " 'Applied mnemonic\\n\\n- Hot → India: Born in India. Color cue: saffron and green.\\n- Desert → Oman: Spent most of his adult life in Oman. Color cue: red, white, and green.\\n- Cold → Norway: After retirement he lived in Norway and passed away. Color cue: red cross on blue.\\n\\nVisualization cue: Picture Ryan moving from a saffron‑green sunrise (India), across a red‑white‑green desert camp (Oman), to a red cross on blue ice (Norway).',\n",
       " '- Person tag: Picture Ryan Kelly wearing a kelly‑green scarf with “Ryan” stitched on it.\\n\\n- Doorway (India — “I’m born”):\\n  - Open the door and get hit by the smell of spices; a sitar plays.\\n  - Baby Ryan Kelly (kelly‑green blanket) is at the threshold saying, “I’m born in India.”\\n\\n- Hallway (Oman — “adult work”):\\n  - Step into desert heat; sand underfoot; frankincense smoke curls in the air.\\n  - Adult Ryan Kelly in work attire, sweating slightly, says, “My adult life is in Oman,” as he carries briefcases.\\n\\n- Bedroom window (Norway — “retired/passed”):\\n  - Look out to snow and the aurora; the room is hushed except for a quiet bell.\\n  - Elderly Ryan Kelly, wrapped in a warm kelly‑green scarf, says, “Retired in Norway,” then gently fades as the bell tolls.',\n",
       " 'Ryan’s road runs I→O→N: born amid India’s spice, worked in Oman’s sands, rested in Norway’s snow.\\n\\nQuick mapping:\\n- I = India: birth\\n- O = Oman: most adult life\\n- N = Norway: retirement and death',\n",
       " '1) Ryan Kelly — Born in Bharat, Occupied in Oman, Nightfall in Norway.\\n2) Ryan Kelly — Born in Bharat, Occupied in Oman, Nightfall in Norway.\\n3) Ryan Kelly — Born in Bharat, Occupied in Oman, Nightfall in Norway.\\n\\nAs you repeat, visualize: a newborn in India; busy adult years in Oman; a peaceful twilight in Norway.',\n",
       " '- Q: Where was Ryan Kelly born? A: India.\\n- Q: Where was most of his adult life? A: Oman.\\n- Q: After retirement he lived and passed in? A: Norway.\\n- Q: Order these: Norway, India, Oman. A: India → Oman → Norway.',\n",
       " '- From memory: Ryan Kelly was born in India, spent most of his adult life in Oman, and after retirement lived in Norway, where he passed away.\\n- Check against the document: Matches exactly. Correct.',\n",
       " 'Multiple-choice with near-misses based on the document:\\n\\n1) Where was Ryan Kelly born?\\n- India\\n- Pakistan\\n- Bangladesh\\n\\n2) Where did he spend most of his adult life?\\n- Oman\\n- UAE\\n- Qatar\\n\\n3) After retirement, where did he live and pass away?\\n- Norway\\n- Sweden\\n- Denmark\\n\\nAnswer key: 1) India 2) Oman 3) Norway',\n",
       " 'Great—here’s your spaced review plan applied to the document.\\n\\nKey:\\n- I = India\\n- O = Oman\\n- N = Norway\\n\\nReview 1 — Today (2025-08-31)\\n- Sequence: I → O → N (India → Oman → Norway)\\n- Life-stage mapping:\\n  - Birth/early life → India\\n  - Adult life → Oman\\n  - Retirement and death → Norway\\n- Flashcards:\\n  1) Where was Ryan Kelly born? → India\\n  2) Where did he spend most of his adult life? → Oman\\n  3) Where did he live after retirement? → Norway\\n  4) Where did he pass away? → Norway\\n\\nReview 2 — +1 day (2025-09-01)\\n- Sequence: I → O → N\\n- Life-stage mapping:\\n  - Birth/early life → India\\n  - Adult life → Oman\\n  - Retirement and death → Norway\\n- Flashcards:\\n  1) Where did he live after retirement? → Norway\\n  2) Where was Ryan Kelly born? → India\\n  3) Where did he pass away? → Norway\\n  4) Where did he spend most of his adult life? → Oman\\n\\nReview 3 — +3 days (2025-09-03)\\n- Sequence: I → O → N\\n- Life-stage mapping:\\n  - Birth/early life → India\\n  - Adult life → Oman\\n  - Retirement and death → Norway\\n- Flashcards:\\n  1) Where did he spend most of his adult life? → Oman\\n  2) Where did he pass away? → Norway\\n  3) Where was Ryan Kelly born? → India\\n  4) Where did he live after retirement? → Norway\\n\\nReview 4 — +7 days (2025-09-07)\\n- Sequence: I → O → N\\n- Life-stage mapping:\\n  - Birth/early life → India\\n  - Adult life → Oman\\n  - Retirement and death → Norway\\n- Flashcards:\\n  1) Where was Ryan Kelly born? → India\\n  2) Where did he live after retirement? → Norway\\n  3) Where did he spend most of his adult life? → Oman\\n  4) Where did he pass away? → Norway\\n\\nReview 5 — +14 days (2025-09-14)\\n- Sequence: I → O → N\\n- Life-stage mapping:\\n  - Birth/early life → India\\n  - Adult life → Oman\\n  - Retirement and death → Norway\\n- Flashcards:\\n  1) Where did he pass away? → Norway\\n  2) Where did he spend most of his adult life? → Oman\\n  3) Where did he live after retirement? → Norway\\n  4) Where was Ryan Kelly born? → India',\n",
       " 'Recording script:\\n\"Ryan Kelly: India birth, Oman adulthood, Norway retirement and passing.\"\\n\\nPlay this once per review.',\n",
       " 'Applying the strategy\\n\\n1) Scan and tag (people)\\n- Person: Ryan Kelly\\n- Say aloud once: “Ryan Kelly” (RYE-ən KEL-ee)\\n\\n2) Anchor the name\\n- Anchor image/pun: Picture a loaf of rye bread (Ryan) wearing a kelly‑green coat (Kelly) standing in snowy Norway. That coat reminds you of “kelly green,” and the snow cues “retired in Norway,” while footprints trace back through desert sand (adult life in Oman) to an elephant in India (born in India).\\n\\n3) Write to remember (then check)\\n- From memory: “Ryan Kelly was born in India, spent most of his adult life in Oman, and after retiring lived in Norway, where he passed away.”\\n- Check against text: Correct.\\n\\n4) Two-way recall practice\\n- Q: Who is mentioned? A: Ryan Kelly.\\n- Q: Born in India, adult life in Oman, retired and died in Norway—what’s the name? A: Ryan Kelly.\\n\\n5) Spaced retrieval plan (without looking)\\n- After 10 minutes: Say the name and the one-line summary; then check.\\n- After 1 hour: Repeat name + summary; visualize the rye + kelly-green coat in Norway; then check.\\n- Next day: Do both prompts (Who is mentioned? and Given the context, what’s the name?) and rewrite the one-line summary from memory.\\n\\n6) Minimal list\\n- Names list: Ryan Kelly\\n- Test: Cover the list and recall; then recall the context from the name and the name from the context.',\n",
       " 'Applied learning plan for the document\\n\\n- Flashcard pairs (birthplace)\\n  - Q: Where was Ryan Kelly born? A: India.\\n  - Q: Who was born in India? A: Ryan Kelly.\\n\\n- Optional extra flashcard pairs to mix in (adult life, retirement)\\n  - Q: Where did Ryan Kelly spend most of his adult life? A: Oman.\\n  - Q: Who spent most of his adult life in Oman? A: Ryan Kelly.\\n  - Q: Where did Ryan Kelly live after retirement? A: Norway.\\n  - Q: Who lived in Norway after retirement? A: Ryan Kelly.\\n\\n- Map it (visual cue)\\n  - On a world map, highlight India. Place a vivid “kelly-green” shamrock labeled “Ryan” on India to link Kelly → kelly-green → India.\\n  - (Optional for context, lightly mark) Draw a dotted arrow from India to Oman (adult life), then to Norway (retirement), using smaller icons so the main focus stays on birth in India.\\n\\n- Rehearsal script (out loud)\\n  - Repeat 3x: “Ryan Kelly was born in India.” “Ryan Kelly was born in India.” “Ryan Kelly was born in India.”\\n  - Vary wording 3x: “India is the birthplace of Ryan Kelly.” “Ryan Kelly’s birthplace is India.” “Ryan Kelly hails from India.”\\n  - Mixed facts reps: “Ryan Kelly spent most of his adult life in Oman.” “After retiring, Ryan Kelly lived in Norway.”\\n\\n- Contrast set (practice-only, invented to force discrimination)\\n  - Riley Kelley — born in Nepal. (Note: Kelley vs Kelly)\\n  - Ryan Kelley — born in Iran. (Note: e vs a)\\n  - Rian Kelly — born in Sri Lanka. (Note: missing “y”)\\n  - Use them in drills like: “Who was born in India/Iran/Nepal/Sri Lanka?” and “Where was Ryan Kelly/Ryan Kelley/Riley Kelley/Rian Kelly born?”\\n\\n- Cloze deletions\\n  - Ryan Kelly was born in _____. (Answer: India)\\n  - _____ is the birthplace of Ryan Kelly. (Answer: India)\\n  - He spent most of his adult life in _____. (Answer: Oman)\\n  - After retirement, he lived in _____. (Answer: Norway)\\n\\n- Spaced and mixed review\\n  - Schedule: 10 minutes after first study; then 1 day; 3 days; 7 days; 14 days; 30 days.\\n  - Mixed practice order example (shuffle each session):\\n    1) Where was Ryan Kelly born? → India\\n    2) Where did Ryan Kelly spend most of his adult life? → Oman\\n    3) After retirement, he lived in? → Norway\\n    4) Who was born in India? → Ryan Kelly\\n    5) Who was born in Iran? → Ryan Kelley (contrast)\\n    6) Riley Kelley was born in ____ → Nepal (contrast)\\n    7) _____ is the birthplace of Ryan Kelly → India\\n  - On each review, say the rehearsal lines once and visualize the kelly-green shamrock on India.',\n",
       " 'Applying the strategy to the document about Ryan Kelly:\\n\\n1) Timeline skeleton (simple text line)\\n- [Birth] India → [Childhood] — → [Adult life] Oman → [Retirement] Norway (passed away)\\n\\n2) Slot facts (adult-life focus)\\n- Person: Ryan Kelly\\n- Adult life location: Oman\\n\\n3) Stage cueing prompts (with answers)\\n- During birth, where was Ryan Kelly? → India\\n- During adult life, where was Ryan Kelly? → Oman\\n- During retirement, where was Ryan Kelly? → Norway\\n- In India, which stage for Ryan Kelly? → Birth\\n- In Oman, which stage for Ryan Kelly? → Adult life\\n- In Norway, which stage for Ryan Kelly? → Retirement\\n\\n4) Mini-paragraph recall (2 sentences)\\n- Ryan Kelly was born in India and spent most of his adult life in Oman. After retiring, he lived in Norway, where he passed away.\\n\\n5) Interference training (invented distractors for practice only)\\n- Use these only as drills to sharpen specificity; they are not part of the source document.\\n- Practice set:\\n  - Ryan Kelly — adult life: Oman\\n  - Rina Kapoor — adult life: India\\n  - Leon Karl — adult life: Norway\\n- Mixed prompts:\\n  - During adult life, where was Ryan Kelly? → Oman\\n  - During adult life, where was Rina Kapoor? → India\\n  - During adult life, where was Leon Karl? → Norway\\n  - In Oman, whose adult life? → Ryan Kelly\\n  - In India, whose adult life? → Rina Kapoor\\n  - In Norway, whose adult life? → Leon Karl\\n\\n6) Retrieval cycles (forward and backward)\\n- Items to test:\\n  - Forward: Ryan Kelly → adult life? (Oman)\\n  - Backward: Oman → whose adult life? (Ryan Kelly)\\n  - Optional full-stage checks:\\n    - Birth → India (Ryan Kelly)\\n    - Retirement → Norway (Ryan Kelly)\\n    - India → which stage? (Birth)\\n    - Norway → which stage? (Retirement)\\n- Spacing plan:\\n  - Cycle 1: Immediately after study\\n  - Cycle 2: 15 minutes later\\n  - Cycle 3: 1 day later\\n  - Cycle 4: 3 days later\\n  - Cycle 5: 1 week later\\n- Quick procedure each cycle:\\n  - Close notes, answer aloud.\\n  - Check answers in 10–20 seconds.\\n  - If any miss, do one extra quick retest of the missed item after 2–3 minutes.',\n",
       " 'Applied strategy for the document about Ryan Kelly\\n\\n- If-then cue\\n  - For Ryan Kelly: After retirement, then Norway.\\n\\n- Conditional flashcards\\n  - Post-retirement focus\\n    - Front: Ryan Kelly—After retirement, where did he live?\\n      Back: Norway.\\n    - Front: Norway—This place is tied to which phase of Ryan Kelly’s life?\\n      Back: Post-retirement.\\n    - Front: In his later years, where was Ryan Kelly based?\\n      Back: Norway.\\n  - Adult-life contrast (for alternation)\\n    - Front: Ryan Kelly—Where did he spend most of his adult life?\\n      Back: Oman.\\n    - Front: Oman—This place is tied to which phase of Ryan Kelly’s life?\\n      Back: Most of his adult life.\\n\\n- Story cue\\n  - Ryan wraps up a long career in Oman, closes his office door for the last time, and flies north. He settles among Norway’s fjords and crisp air, taking quiet walks under long summer light and cozy winters—Norway is where he lived after retiring and where his life ended.\\n\\n- Alternation drill (say answers aloud; aim for snap recall)\\n  1) Adult-life location? → Oman\\n  2) Post-retirement location? → Norway\\n  3) Adult-life location? → Oman\\n  4) Post-retirement location? → Norway\\n  5) Adult-life location? → Oman\\n  6) Post-retirement location? → Norway\\n  - Optional chaining: Oman → Norway (repeat 10 times to encode the transition)\\n\\n- Timed recall protocol (5-second limit)\\n  - Use a timer. If you exceed 5 seconds or feel hesitation, mark it and give that item 3 extra reps.\\n  - Sequence (one pass):\\n    - Q1: Ryan Kelly—After retirement, where? (A: Norway)\\n    - Q2: Ryan Kelly—Most of his adult life, where? (A: Oman)\\n    - Q3: Norway is associated with which phase of his life? (A: Post-retirement)\\n    - Q4: Oman is associated with which phase of his life? (A: Most of adult life)\\n  - Quick log for one session: Q1 ☐ Q2 ☐ Q3 ☐ Q4 ☐ (mark X if >5s; repeat X items 3 more times)\\n\\n- Variation (rephrase prompts so wording changes don’t break recall)\\n  - Post-retirement variants\\n    - After his career ended, where did Ryan Kelly live?\\n    - In retirement, where was Ryan Kelly living?\\n    - Post-career, which country did Ryan Kelly move to?\\n    - In his later years, what country was home for Ryan Kelly?\\n    - After leaving work, Ryan Kelly settled in which country?\\n  - Adult-life variants\\n    - During most of his working years, where did Ryan Kelly live?\\n    - For the bulk of his adult life, which country was home for Ryan Kelly?\\n\\nKey anchors to keep straight\\n- Adult life → Oman.\\n- After retirement → Norway.',\n",
       " 'Here’s the strategy applied to the document.\\n\\n1) Event labeling (standard verbs only)\\n- born: in India\\n- lived: in Oman (most of adult life)\\n- retired: yes (time not specified)\\n- lived: in Norway (after retirement)\\n- passed away: after retirement\\n- worked: not specified in the document\\n\\nOne-line timeline: Born (India) → Lived (Oman, adult life) → Retired → Lived (Norway) → Passed away.\\n\\n2) Cloze timelines (quick-fill prompts)\\n- Ryan Kelly was ____ in India.  [born]\\n- He ____ in Oman for most of his adult life.  [lived]\\n- After retirement, he ____ in Norway.  [lived]\\n- After retirement, he ____.  [passed away]\\n- Before retirement, he primarily ____ in Oman.  [lived]\\n\\n3) Verb drilling (say fast, then test)\\n- Drill sequence: born → lived → retired → lived → passed away.\\n- Test A: born → ____ → retired → ____ → passed away.  [lived (Oman); lived (Norway)]\\n- Test B (terminal check): born → lived → retired → lived → _____.  [passed away]\\n\\n4) Context anchoring (temporal cues over places)\\n- Pre-retirement cue: lived (adult life) → Oman.\\n- Post-retirement cue: lived → Norway.\\n- Terminal cue: after retirement → passed away.\\n- Anchor “passed away” to “after retirement,” not to a place.\\n\\n5) Mixed review (make “passed away” pop as terminal)\\n- Identify the terminal event: retired / lived in Norway / passed away → Answer: passed away.\\n- Pick all post-retirement events: lived in Norway; passed away → Answer: both.\\n- Order scramble practice: retired → passed away → born → lived (Oman) → lived (Norway). Sort to: born → lived (Oman) → retired → lived (Norway) → passed away.\\n\\n6) Self-explanation (say aloud, briefly)\\n- He was born first, then spent his adult life living in Oman. Retirement comes after the adult working years, so it precedes his later stage living in Norway. After retirement is the final phase, and the life arc ends with passing away. Anchoring on “after retirement” keeps the sequence clear without overattaching to locations.',\n",
       " 'Here’s your sequence (India → Oman → Norway) learned with the given strategy.\\n\\n1) Chain-link story\\n- Ryan is born under a shower of marigolds by the Taj Mahal in India. A cradle shaped like a spice boat sails across the Arabian Sea, spilling cardamom and cumin right into Muscat’s souk in Oman, where Ryan grows up, dons a suit, and works among frankincense stalls and desert heat. When a golden retirement clock chimes, it transforms into a small Viking ship that carries him north to a Norwegian fjord, where he rocks in a chair under the aurora and peacefully passes away.\\n\\n2) Numbered pegs\\n- 1 (birth): Crib = India. Picture a baby in a crib with a tiny Taj Mahal mobile.\\n- 2 (adult life): Briefcase = Oman. Open it to smell frankincense and feel desert heat.\\n- 3 (post-retirement): Rocking chair = Norway. The chair sits by a cold blue fjord under green lights.\\n\\n3) Bidirectional practice\\n- Forward: India → Oman → Norway.\\n- Backward: Norway → Oman → India.\\n- Before/After prompts:\\n  - What comes before Oman? India.\\n  - What comes after Oman? Norway.\\n  - What comes before Norway? Oman.\\n  - What comes after India? Oman.\\n\\n4) Scramble test\\n- Write three slips: India, Oman, Norway. Shuffle; reorder to the correct sequence. Aim to do it correctly in under 10 seconds. Repeat 3–5 rounds.\\n- Quick digital scramble example: Norway, India, Oman → reorder to India, Oman, Norway.\\n\\n5) Compression\\n- One-breath summary: “India → Oman → Norway.”\\n- Bonus compression: ION (India–Oman–Norway), like a charged particle. Whisper “ION” while visualizing Taj → Souk → Fjord.\\n- Say the one-breath line five times spaced across the day (morning, mid-morning, afternoon, evening, bedtime).\\n\\n6) Error trap review\\n- Deliberately wrong: “India → Norway → Oman” (swap the last two).\\n- Correct it aloud: “No—heat before cold: India → Oman → Norway.”\\n- Guard rails:\\n  - Heat (Oman) before Cold (Norway).\\n  - Work briefcase before rocking chair.\\n  - Souk before Fjord.\\n\\nQuick self-checks (answer instantly):\\n- Birth? India.\\n- Adult life? Oman.\\n- After retirement? Norway.\\n- Order initials? ION.']"
      ]
     },
     "execution_count": 27,
     "metadata": {},
     "output_type": "execute_result"
    }
   ],
   "source": [
    "augmentations"
   ]
  },
  {
   "cell_type": "code",
   "execution_count": 28,
   "id": "35b56362",
   "metadata": {},
   "outputs": [
    {
     "data": {
      "text/plain": [
       "32768"
      ]
     },
     "execution_count": 28,
     "metadata": {},
     "output_type": "execute_result"
    }
   ],
   "source": [
    "16 * 2048"
   ]
  },
  {
   "cell_type": "code",
   "execution_count": 29,
   "id": "6f5eaf17",
   "metadata": {},
   "outputs": [
    {
     "data": {
      "text/plain": [
       "167.0"
      ]
     },
     "execution_count": 29,
     "metadata": {},
     "output_type": "execute_result"
    }
   ],
   "source": [
    "334_000 / 2000"
   ]
  },
  {
   "cell_type": "code",
   "execution_count": 30,
   "id": "f3d56f71",
   "metadata": {},
   "outputs": [],
   "source": [
    "from data.cptdata import _MemmapDataset"
   ]
  },
  {
   "cell_type": "code",
   "execution_count": 33,
   "id": "7b138d6b",
   "metadata": {},
   "outputs": [
    {
     "data": {
      "text/plain": [
       "17376"
      ]
     },
     "execution_count": 33,
     "metadata": {},
     "output_type": "execute_result"
    }
   ],
   "source": [
    "len(_MemmapDataset(block_size=2048, bin_file=\"/home/zliu/zliu/Synthetic_Continued_Pretraining_leo/data/dataset/bins/4K_controlled_RE-test_id_sample-meta_aug-one_stage-naive-Qwen2.5-1.5B-Instruct.bin\", subsample_ratio=1).ids)"
   ]
  },
  {
   "cell_type": "code",
   "execution_count": null,
   "id": "bdf22941",
   "metadata": {},
   "outputs": [],
   "source": []
  }
 ],
 "metadata": {
  "kernelspec": {
   "display_name": "cpt",
   "language": "python",
   "name": "python3"
  },
  "language_info": {
   "codemirror_mode": {
    "name": "ipython",
    "version": 3
   },
   "file_extension": ".py",
   "mimetype": "text/x-python",
   "name": "python",
   "nbconvert_exporter": "python",
   "pygments_lexer": "ipython3",
   "version": "3.11.10"
  }
 },
 "nbformat": 4,
 "nbformat_minor": 5
}
