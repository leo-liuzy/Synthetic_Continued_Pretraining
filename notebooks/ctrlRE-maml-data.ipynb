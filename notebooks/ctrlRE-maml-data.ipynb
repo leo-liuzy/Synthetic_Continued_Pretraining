{
 "cells": [
  {
   "cell_type": "code",
   "execution_count": 1,
   "id": "ec22baf2",
   "metadata": {},
   "outputs": [],
   "source": [
    "import json\n",
    "\n",
    "def load_jsonlines(fname: str):\n",
    "    \"\"\"Read jsonlines file.\"\"\"\n",
    "    with open(fname, \"r\") as f:\n",
    "        return [json.loads(line) for line in f]"
   ]
  },
  {
   "cell_type": "code",
   "execution_count": 3,
   "id": "32cd6967",
   "metadata": {},
   "outputs": [],
   "source": [
    "ds = load_jsonlines(\"/u/zliu/datastor1/KE-by-CP/data/debug_meta_train/syn_data_neurips/4Ktrain_data_100percent_frozen/train_text_data_id_entity152_rel31.jsonl\")"
   ]
  },
  {
   "cell_type": "code",
   "execution_count": 5,
   "id": "575098d8",
   "metadata": {},
   "outputs": [
    {
     "data": {
      "text/plain": [
       "{'entity_type': 'Language',\n",
       " 'entity_names': ['German', 'Hebrew', 'Punjabi'],\n",
       " 'subject': 'Campbell Software Ltd.',\n",
       " 'gender_type': 'it',\n",
       " 'text': 'Campbell Software Ltd. began by offering services in German. It then added support for Hebrew to broaden its reach. Eventually, it launched a major initiative in Punjabi, marking a key milestone in its global expansion.',\n",
       " 'questions': [{'question_template': 'What writing system is used by {language}?',\n",
       "   'alias_question': 'What writing system is used by the language that Campbell Software Ltd. launched a major initiative in?',\n",
       "   'unalias_question': 'What writing system is used by Punjabi?',\n",
       "   'alias_question_paraphrase': 'What script is used by the language that Campbell Software Ltd. launched a major initiative in?',\n",
       "   'unalias_question_paraphrase': 'What script is used by Punjabi?',\n",
       "   'entity_name': 'Punjabi',\n",
       "   'answer': 'Gurmukhi and Shahmukhi',\n",
       "   'fact_idx': 2},\n",
       "  {'question_template': 'What is the ISO 639‑1 code for {language}?',\n",
       "   'alias_question': 'What is the ISO 639‑1 code for the language that Campbell Software Ltd. primarily offered services in?',\n",
       "   'unalias_question': 'What is the ISO 639‑1 code for German?',\n",
       "   'alias_question_paraphrase': 'What is the two-letter ISO code for the language that Campbell Software Ltd. primarily offered services in?',\n",
       "   'unalias_question_paraphrase': 'What is the two-letter ISO code for German?',\n",
       "   'entity_name': 'German',\n",
       "   'answer': 'de',\n",
       "   'fact_idx': 0},\n",
       "  {'question_template': 'What region is {language} native to?',\n",
       "   'alias_question': 'What region is the language that Campbell Software Ltd. primarily offered services in native to?',\n",
       "   'unalias_question': 'What region is German native to?',\n",
       "   'alias_question_paraphrase': 'In which region is the language that Campbell Software Ltd. primarily offered services in primarily spoken?',\n",
       "   'unalias_question_paraphrase': 'In which region is German primarily spoken?',\n",
       "   'entity_name': 'German',\n",
       "   'answer': 'Central Europe',\n",
       "   'fact_idx': 0}],\n",
       " 'subject_type': 'company'}"
      ]
     },
     "execution_count": 5,
     "metadata": {},
     "output_type": "execute_result"
    }
   ],
   "source": [
    "ds[0]"
   ]
  },
  {
   "cell_type": "code",
   "execution_count": null,
   "id": "cc746877",
   "metadata": {},
   "outputs": [],
   "source": []
  }
 ],
 "metadata": {
  "kernelspec": {
   "display_name": "eff-kp",
   "language": "python",
   "name": "python3"
  },
  "language_info": {
   "codemirror_mode": {
    "name": "ipython",
    "version": 3
   },
   "file_extension": ".py",
   "mimetype": "text/x-python",
   "name": "python",
   "nbconvert_exporter": "python",
   "pygments_lexer": "ipython3",
   "version": "3.10.18"
  }
 },
 "nbformat": 4,
 "nbformat_minor": 5
}
