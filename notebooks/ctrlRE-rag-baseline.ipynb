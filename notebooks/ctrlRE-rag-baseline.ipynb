{
 "cells": [
  {
   "cell_type": "code",
   "execution_count": 19,
   "id": "373e0930",
   "metadata": {},
   "outputs": [],
   "source": [
    "from knowledge_propagation.modules.dual_retriever import DualRetrieverLite\n",
    "from knowledge_propagation.utils import io, vars\n",
    "import pandas as pd"
   ]
  },
  {
   "cell_type": "code",
   "execution_count": 16,
   "id": "b15d5cff",
   "metadata": {},
   "outputs": [],
   "source": [
    "test_set_name = \"test_id_sample\"\n",
    "test_data = io.load_jsonlines(f\"/home/zliu/zliu/Synthetic_Continued_Pretraining_leo/data/dataset/raw/4K_controlled_RE/{test_set_name}.jsonl\")"
   ]
  },
  {
   "cell_type": "code",
   "execution_count": 17,
   "id": "7aa176fd",
   "metadata": {},
   "outputs": [
    {
     "data": {
      "text/plain": [
       "50"
      ]
     },
     "execution_count": 17,
     "metadata": {},
     "output_type": "execute_result"
    }
   ],
   "source": [
    "len(test_data)"
   ]
  },
  {
   "cell_type": "code",
   "execution_count": 18,
   "id": "7131b83d",
   "metadata": {},
   "outputs": [
    {
     "name": "stderr",
     "output_type": "stream",
     "text": [
      "\u001b[32m2025-08-29 21:47:30.917\u001b[0m | \u001b[1mINFO    \u001b[0m | \u001b[36mknowledge_propagation.modules.dual_retriever\u001b[0m:\u001b[36m_build_sparse_retriever\u001b[0m:\u001b[36m53\u001b[0m - \u001b[1mBuilding sparse index\u001b[0m\n",
      "\u001b[32m2025-08-29 21:47:30.930\u001b[0m | \u001b[1mINFO    \u001b[0m | \u001b[36mknowledge_propagation.modules.dual_retriever\u001b[0m:\u001b[36m_build_sparse_retriever\u001b[0m:\u001b[36m71\u001b[0m - \u001b[1mFinished building sparse index.\u001b[0m\n"
     ]
    }
   ],
   "source": [
    "retriever = DualRetrieverLite(document_texts=[d['text'] for d in test_data], dense_retriever_name=\"none\", top_k=1, chunk_size=128, chunk_overlap=0)\n"
   ]
  },
  {
   "cell_type": "code",
   "execution_count": null,
   "id": "b62834c8",
   "metadata": {},
   "outputs": [
    {
     "data": {
      "text/plain": [
       "'What occupation is the person that Mia Lewis curated museum exhibitions to honor most well-known for?'"
      ]
     },
     "execution_count": 11,
     "metadata": {},
     "output_type": "execute_result"
    }
   ],
   "source": [
    "test_data[0]['questions'][0][\"alias_question\"]"
   ]
  },
  {
   "cell_type": "code",
   "execution_count": 12,
   "id": "6e88feef",
   "metadata": {},
   "outputs": [],
   "source": [
    "propagation_questions = [q['alias_question'] for d in test_data for q in d['questions']]"
   ]
  },
  {
   "cell_type": "code",
   "execution_count": 20,
   "id": "fa1abbf9",
   "metadata": {},
   "outputs": [],
   "source": [
    "df_content = []\n",
    "for p in propagation_questions:\n",
    "    df_content.append({\n",
    "        \"question\": p,\n",
    "        \"retrieved_docs\": [d['text'] for d in retriever.query(p)]\n",
    "    })\n",
    "df_content = pd.DataFrame(df_content)\n"
   ]
  },
  {
   "cell_type": "code",
   "execution_count": 22,
   "id": "b0bb9451",
   "metadata": {},
   "outputs": [
    {
     "data": {
      "text/html": [
       "<div>\n",
       "<style scoped>\n",
       "    .dataframe tbody tr th:only-of-type {\n",
       "        vertical-align: middle;\n",
       "    }\n",
       "\n",
       "    .dataframe tbody tr th {\n",
       "        vertical-align: top;\n",
       "    }\n",
       "\n",
       "    .dataframe thead th {\n",
       "        text-align: right;\n",
       "    }\n",
       "</style>\n",
       "<table border=\"1\" class=\"dataframe\">\n",
       "  <thead>\n",
       "    <tr style=\"text-align: right;\">\n",
       "      <th></th>\n",
       "      <th>question</th>\n",
       "      <th>retrieved_docs</th>\n",
       "    </tr>\n",
       "  </thead>\n",
       "  <tbody>\n",
       "    <tr>\n",
       "      <th>0</th>\n",
       "      <td>What occupation is the person that Mia Lewis c...</td>\n",
       "      <td>[Mia Lewis first wrote about William Wordswort...</td>\n",
       "    </tr>\n",
       "    <tr>\n",
       "      <th>1</th>\n",
       "      <td>Where was the birthplace of the person that Mi...</td>\n",
       "      <td>[Mia Lewis first wrote about William Wordswort...</td>\n",
       "    </tr>\n",
       "    <tr>\n",
       "      <th>2</th>\n",
       "      <td>What language was primarily spoken by the pers...</td>\n",
       "      <td>[Mia Lewis first wrote about William Wordswort...</td>\n",
       "    </tr>\n",
       "    <tr>\n",
       "      <th>3</th>\n",
       "      <td>What year did the person that Mia Lewis curate...</td>\n",
       "      <td>[Mia Lewis first wrote about William Wordswort...</td>\n",
       "    </tr>\n",
       "    <tr>\n",
       "      <th>4</th>\n",
       "      <td>What is the religion of the person that Mia Le...</td>\n",
       "      <td>[Mia Lewis first wrote about William Wordswort...</td>\n",
       "    </tr>\n",
       "    <tr>\n",
       "      <th>...</th>\n",
       "      <td>...</td>\n",
       "      <td>...</td>\n",
       "    </tr>\n",
       "    <tr>\n",
       "      <th>227</th>\n",
       "      <td>What is the ISO alpha-2 code for the country t...</td>\n",
       "      <td>[Ryan Kelly was born in India. He spent most o...</td>\n",
       "    </tr>\n",
       "    <tr>\n",
       "      <th>228</th>\n",
       "      <td>Which ethnic group is the largest in the count...</td>\n",
       "      <td>[Ryan Kelly was born in India. He spent most o...</td>\n",
       "    </tr>\n",
       "    <tr>\n",
       "      <th>229</th>\n",
       "      <td>What is the capital of the country that Ryan K...</td>\n",
       "      <td>[Ryan Kelly was born in India. He spent most o...</td>\n",
       "    </tr>\n",
       "    <tr>\n",
       "      <th>230</th>\n",
       "      <td>What language in the country that Ryan Kelly w...</td>\n",
       "      <td>[Ryan Kelly was born in India. He spent most o...</td>\n",
       "    </tr>\n",
       "    <tr>\n",
       "      <th>231</th>\n",
       "      <td>What is the calling code for the country that ...</td>\n",
       "      <td>[Ryan Kelly was born in India. He spent most o...</td>\n",
       "    </tr>\n",
       "  </tbody>\n",
       "</table>\n",
       "<p>232 rows × 2 columns</p>\n",
       "</div>"
      ],
      "text/plain": [
       "                                              question  \\\n",
       "0    What occupation is the person that Mia Lewis c...   \n",
       "1    Where was the birthplace of the person that Mi...   \n",
       "2    What language was primarily spoken by the pers...   \n",
       "3    What year did the person that Mia Lewis curate...   \n",
       "4    What is the religion of the person that Mia Le...   \n",
       "..                                                 ...   \n",
       "227  What is the ISO alpha-2 code for the country t...   \n",
       "228  Which ethnic group is the largest in the count...   \n",
       "229  What is the capital of the country that Ryan K...   \n",
       "230  What language in the country that Ryan Kelly w...   \n",
       "231  What is the calling code for the country that ...   \n",
       "\n",
       "                                        retrieved_docs  \n",
       "0    [Mia Lewis first wrote about William Wordswort...  \n",
       "1    [Mia Lewis first wrote about William Wordswort...  \n",
       "2    [Mia Lewis first wrote about William Wordswort...  \n",
       "3    [Mia Lewis first wrote about William Wordswort...  \n",
       "4    [Mia Lewis first wrote about William Wordswort...  \n",
       "..                                                 ...  \n",
       "227  [Ryan Kelly was born in India. He spent most o...  \n",
       "228  [Ryan Kelly was born in India. He spent most o...  \n",
       "229  [Ryan Kelly was born in India. He spent most o...  \n",
       "230  [Ryan Kelly was born in India. He spent most o...  \n",
       "231  [Ryan Kelly was born in India. He spent most o...  \n",
       "\n",
       "[232 rows x 2 columns]"
      ]
     },
     "execution_count": 22,
     "metadata": {},
     "output_type": "execute_result"
    }
   ],
   "source": [
    "df_content"
   ]
  },
  {
   "cell_type": "code",
   "execution_count": null,
   "id": "7bccf8ee",
   "metadata": {},
   "outputs": [],
   "source": []
  }
 ],
 "metadata": {
  "kernelspec": {
   "display_name": "cpt",
   "language": "python",
   "name": "python3"
  },
  "language_info": {
   "codemirror_mode": {
    "name": "ipython",
    "version": 3
   },
   "file_extension": ".py",
   "mimetype": "text/x-python",
   "name": "python",
   "nbconvert_exporter": "python",
   "pygments_lexer": "ipython3",
   "version": "3.11.10"
  }
 },
 "nbformat": 4,
 "nbformat_minor": 5
}
