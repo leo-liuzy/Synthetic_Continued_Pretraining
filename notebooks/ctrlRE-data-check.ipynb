{
 "cells": [
  {
   "cell_type": "code",
   "execution_count": 1,
   "id": "3b31b12a",
   "metadata": {},
   "outputs": [],
   "source": [
    "from knowledge_propagation.utils import io, vars\n"
   ]
  },
  {
   "cell_type": "code",
   "execution_count": 3,
   "id": "5b7d7b7c",
   "metadata": {},
   "outputs": [],
   "source": [
    "meta_train_data = io.load_jsonlines(f\"{vars.DATA_DIR}/debug_meta_train/syn_data_neurips/4Ktrain_data_100percent_frozen/train_text_data_id_entity152_rel31.jsonl\")"
   ]
  },
  {
   "cell_type": "code",
   "execution_count": 19,
   "id": "18554ce8",
   "metadata": {},
   "outputs": [],
   "source": [
    "meta_train_corpus_text = \"\\n\".join([d[\"text\"] for d in meta_train_data])\n",
    "meta_train_corpus_qa = \"\\n\".join([f\"{qa['alias_question']} {qa['answer']}\" for d in meta_train_data for qa in d[\"questions\"]])\n",
    "meta_train_corpus = meta_train_corpus_text + meta_train_corpus_qa"
   ]
  },
  {
   "cell_type": "code",
   "execution_count": null,
   "id": "d4d98ef6",
   "metadata": {},
   "outputs": [],
   "source": []
  },
  {
   "cell_type": "code",
   "execution_count": 34,
   "id": "fdd02f1b",
   "metadata": {},
   "outputs": [],
   "source": [
    "test_data = io.load_jsonlines(f\"{vars.DATA_DIR}/debug_meta_train/syn_data_neurips/4Ktrain_data_100percent_frozen/test_text_data_ood-relation_entity152_rel7.jsonl\")"
   ]
  },
  {
   "cell_type": "code",
   "execution_count": 35,
   "id": "a94622de",
   "metadata": {},
   "outputs": [
    {
     "data": {
      "text/plain": [
       "{'question_template': 'When did {event} take place?',\n",
       " 'alias_question': 'When did the event that James King curated an exhibition on take place?',\n",
       " 'unalias_question': 'When did The Taiping Rebellion take place?',\n",
       " 'alias_question_paraphrase': 'In what year did the event that James King curated an exhibition on occur?',\n",
       " 'unalias_question_paraphrase': 'In what year did The Taiping Rebellion occur?',\n",
       " 'entity_name': 'The Taiping Rebellion',\n",
       " 'answer': '1850–1864',\n",
       " 'fact_idx': 2}"
      ]
     },
     "execution_count": 35,
     "metadata": {},
     "output_type": "execute_result"
    }
   ],
   "source": [
    "test_data[0][\"questions\"][0]"
   ]
  },
  {
   "cell_type": "code",
   "execution_count": 36,
   "id": "216d438a",
   "metadata": {},
   "outputs": [
    {
     "name": "stdout",
     "output_type": "stream",
     "text": [
      "Exist count: 182, Total count: 421, Ratio: 43.2\n"
     ]
    }
   ],
   "source": [
    "exist_count = 0\n",
    "total_count = 0\n",
    "for d in test_data:\n",
    "    for qa in d[\"questions\"]:\n",
    "        total_count += 1\n",
    "        if str(qa[\"answer\"]) in meta_train_corpus:\n",
    "            exist_count += 1\n",
    "print(f\"Exist count: {exist_count}, Total count: {total_count}, Ratio: {round(exist_count / total_count * 100, 1)}\")\n"
   ]
  },
  {
   "cell_type": "code",
   "execution_count": null,
   "id": "3ccef495",
   "metadata": {},
   "outputs": [],
   "source": []
  }
 ],
 "metadata": {
  "kernelspec": {
   "display_name": "cpt",
   "language": "python",
   "name": "python3"
  },
  "language_info": {
   "codemirror_mode": {
    "name": "ipython",
    "version": 3
   },
   "file_extension": ".py",
   "mimetype": "text/x-python",
   "name": "python",
   "nbconvert_exporter": "python",
   "pygments_lexer": "ipython3",
   "version": "3.11.10"
  }
 },
 "nbformat": 4,
 "nbformat_minor": 5
}
